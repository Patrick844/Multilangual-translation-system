{
  "cells": [
    {
      "cell_type": "code",
      "execution_count": 4,
      "metadata": {
        "colab": {
          "base_uri": "https://localhost:8080/"
        },
        "id": "0_5yN7ScvoiG",
        "outputId": "e59a74df-3a14-4d77-b981-36a7d1c31446"
      },
      "outputs": [
        {
          "output_type": "execute_result",
          "data": {
            "text/plain": [
              "['Requirement already satisfied: pyngrok in /usr/local/lib/python3.10/dist-packages (7.2.0)',\n",
              " 'Requirement already satisfied: flask in /usr/local/lib/python3.10/dist-packages (2.2.5)',\n",
              " 'Requirement already satisfied: fastapi in /usr/local/lib/python3.10/dist-packages (0.115.0)',\n",
              " 'Requirement already satisfied: uvicorn in /usr/local/lib/python3.10/dist-packages (0.31.0)',\n",
              " 'Requirement already satisfied: nest_asyncio in /usr/local/lib/python3.10/dist-packages (1.6.0)',\n",
              " 'Collecting language_tool_python',\n",
              " '  Downloading language_tool_python-2.8.1-py3-none-any.whl.metadata (12 kB)',\n",
              " 'Requirement already satisfied: PyYAML>=5.1 in /usr/local/lib/python3.10/dist-packages (from pyngrok) (6.0.2)',\n",
              " 'Requirement already satisfied: Werkzeug>=2.2.2 in /usr/local/lib/python3.10/dist-packages (from flask) (3.0.4)',\n",
              " 'Requirement already satisfied: Jinja2>=3.0 in /usr/local/lib/python3.10/dist-packages (from flask) (3.1.4)',\n",
              " 'Requirement already satisfied: itsdangerous>=2.0 in /usr/local/lib/python3.10/dist-packages (from flask) (2.2.0)',\n",
              " 'Requirement already satisfied: click>=8.0 in /usr/local/lib/python3.10/dist-packages (from flask) (8.1.7)',\n",
              " 'Requirement already satisfied: starlette<0.39.0,>=0.37.2 in /usr/local/lib/python3.10/dist-packages (from fastapi) (0.38.6)',\n",
              " 'Requirement already satisfied: pydantic!=1.8,!=1.8.1,!=2.0.0,!=2.0.1,!=2.1.0,<3.0.0,>=1.7.4 in /usr/local/lib/python3.10/dist-packages (from fastapi) (2.9.2)',\n",
              " 'Requirement already satisfied: typing-extensions>=4.8.0 in /usr/local/lib/python3.10/dist-packages (from fastapi) (4.12.2)',\n",
              " 'Requirement already satisfied: h11>=0.8 in /usr/local/lib/python3.10/dist-packages (from uvicorn) (0.14.0)',\n",
              " 'Requirement already satisfied: pip in /usr/local/lib/python3.10/dist-packages (from language_tool_python) (24.1.2)',\n",
              " 'Requirement already satisfied: requests in /usr/local/lib/python3.10/dist-packages (from language_tool_python) (2.32.3)',\n",
              " 'Requirement already satisfied: tqdm in /usr/local/lib/python3.10/dist-packages (from language_tool_python) (4.66.5)',\n",
              " 'Requirement already satisfied: wheel in /usr/local/lib/python3.10/dist-packages (from language_tool_python) (0.44.0)',\n",
              " 'Requirement already satisfied: MarkupSafe>=2.0 in /usr/local/lib/python3.10/dist-packages (from Jinja2>=3.0->flask) (2.1.5)',\n",
              " 'Requirement already satisfied: annotated-types>=0.6.0 in /usr/local/lib/python3.10/dist-packages (from pydantic!=1.8,!=1.8.1,!=2.0.0,!=2.0.1,!=2.1.0,<3.0.0,>=1.7.4->fastapi) (0.7.0)',\n",
              " 'Requirement already satisfied: pydantic-core==2.23.4 in /usr/local/lib/python3.10/dist-packages (from pydantic!=1.8,!=1.8.1,!=2.0.0,!=2.0.1,!=2.1.0,<3.0.0,>=1.7.4->fastapi) (2.23.4)',\n",
              " 'Requirement already satisfied: anyio<5,>=3.4.0 in /usr/local/lib/python3.10/dist-packages (from starlette<0.39.0,>=0.37.2->fastapi) (3.7.1)',\n",
              " 'Requirement already satisfied: charset-normalizer<4,>=2 in /usr/local/lib/python3.10/dist-packages (from requests->language_tool_python) (3.3.2)',\n",
              " 'Requirement already satisfied: idna<4,>=2.5 in /usr/local/lib/python3.10/dist-packages (from requests->language_tool_python) (3.10)',\n",
              " 'Requirement already satisfied: urllib3<3,>=1.21.1 in /usr/local/lib/python3.10/dist-packages (from requests->language_tool_python) (2.2.3)',\n",
              " 'Requirement already satisfied: certifi>=2017.4.17 in /usr/local/lib/python3.10/dist-packages (from requests->language_tool_python) (2024.8.30)',\n",
              " 'Requirement already satisfied: sniffio>=1.1 in /usr/local/lib/python3.10/dist-packages (from anyio<5,>=3.4.0->starlette<0.39.0,>=0.37.2->fastapi) (1.3.1)',\n",
              " 'Requirement already satisfied: exceptiongroup in /usr/local/lib/python3.10/dist-packages (from anyio<5,>=3.4.0->starlette<0.39.0,>=0.37.2->fastapi) (1.2.2)',\n",
              " 'Downloading language_tool_python-2.8.1-py3-none-any.whl (35 kB)',\n",
              " 'Installing collected packages: language_tool_python',\n",
              " 'Successfully installed language_tool_python-2.8.1']"
            ]
          },
          "metadata": {},
          "execution_count": 4
        }
      ],
      "source": [
        "!!pip install pyngrok flask fastapi uvicorn nest_asyncio language_tool_python"
      ]
    },
    {
      "cell_type": "markdown",
      "metadata": {
        "id": "KtF1hZ5N03Ax"
      },
      "source": []
    },
    {
      "cell_type": "code",
      "execution_count": 2,
      "metadata": {
        "colab": {
          "base_uri": "https://localhost:8080/"
        },
        "id": "248DmM4uqXxI",
        "outputId": "6203823d-b225-476d-88c8-60de9fcf0bb1"
      },
      "outputs": [
        {
          "output_type": "stream",
          "name": "stdout",
          "text": [
            "Looking in indexes: https://test.pypi.org/simple/, https://pypi.org/simple\n",
            "Requirement already satisfied: lingowiz==1.0.4 in /usr/local/lib/python3.10/dist-packages (1.0.4)\n",
            "Requirement already satisfied: camel-tools in /usr/local/lib/python3.10/dist-packages (from lingowiz==1.0.4) (1.5.5)\n",
            "Requirement already satisfied: datasets in /usr/local/lib/python3.10/dist-packages (from lingowiz==1.0.4) (3.0.1)\n",
            "Requirement already satisfied: evaluate in /usr/local/lib/python3.10/dist-packages (from lingowiz==1.0.4) (0.4.3)\n",
            "Requirement already satisfied: farasapy in /usr/local/lib/python3.10/dist-packages (from lingowiz==1.0.4) (0.0.14)\n",
            "Requirement already satisfied: tqdm in /usr/local/lib/python3.10/dist-packages (from lingowiz==1.0.4) (4.66.5)\n",
            "Requirement already satisfied: sacrebleu in /usr/local/lib/python3.10/dist-packages (from lingowiz==1.0.4) (2.4.3)\n",
            "Requirement already satisfied: python-dotenv in /usr/local/lib/python3.10/dist-packages (from lingowiz==1.0.4) (1.0.1)\n",
            "Requirement already satisfied: py3langid in /usr/local/lib/python3.10/dist-packages (from lingowiz==1.0.4) (0.2.2)\n",
            "Requirement already satisfied: swifter in /usr/local/lib/python3.10/dist-packages (from lingowiz==1.0.4) (1.4.0)\n",
            "Requirement already satisfied: bert-score in /usr/local/lib/python3.10/dist-packages (from lingowiz==1.0.4) (0.3.13)\n",
            "Requirement already satisfied: bleu in /usr/local/lib/python3.10/dist-packages (from lingowiz==1.0.4) (0.3)\n",
            "Requirement already satisfied: transformers in /usr/local/lib/python3.10/dist-packages (from lingowiz==1.0.4) (4.43.4)\n",
            "Requirement already satisfied: torch in /usr/local/lib/python3.10/dist-packages (from lingowiz==1.0.4) (2.4.1+cu121)\n",
            "Requirement already satisfied: lxml in /usr/local/lib/python3.10/dist-packages (from lingowiz==1.0.4) (4.9.4)\n",
            "Requirement already satisfied: accelerate in /usr/local/lib/python3.10/dist-packages (from lingowiz==1.0.4) (0.34.2)\n",
            "Requirement already satisfied: huggingface-hub in /usr/local/lib/python3.10/dist-packages (from lingowiz==1.0.4) (0.24.7)\n",
            "Requirement already satisfied: scikit-learn in /usr/local/lib/python3.10/dist-packages (from lingowiz==1.0.4) (1.5.2)\n",
            "Requirement already satisfied: langcodes in /usr/local/lib/python3.10/dist-packages (from lingowiz==1.0.4) (3.4.1)\n",
            "Requirement already satisfied: sentencepiece in /usr/local/lib/python3.10/dist-packages (from lingowiz==1.0.4) (0.2.0)\n",
            "Requirement already satisfied: fasttext in /usr/local/lib/python3.10/dist-packages (from lingowiz==1.0.4) (0.9.3)\n",
            "Requirement already satisfied: numpy<3.0.0,>=1.17 in /usr/local/lib/python3.10/dist-packages (from accelerate->lingowiz==1.0.4) (1.26.4)\n",
            "Requirement already satisfied: packaging>=20.0 in /usr/local/lib/python3.10/dist-packages (from accelerate->lingowiz==1.0.4) (24.1)\n",
            "Requirement already satisfied: psutil in /usr/local/lib/python3.10/dist-packages (from accelerate->lingowiz==1.0.4) (5.9.5)\n",
            "Requirement already satisfied: pyyaml in /usr/local/lib/python3.10/dist-packages (from accelerate->lingowiz==1.0.4) (6.0.2)\n",
            "Requirement already satisfied: safetensors>=0.4.3 in /usr/local/lib/python3.10/dist-packages (from accelerate->lingowiz==1.0.4) (0.4.5)\n",
            "Requirement already satisfied: filelock in /usr/local/lib/python3.10/dist-packages (from huggingface-hub->lingowiz==1.0.4) (3.16.1)\n",
            "Requirement already satisfied: fsspec>=2023.5.0 in /usr/local/lib/python3.10/dist-packages (from huggingface-hub->lingowiz==1.0.4) (2024.6.1)\n",
            "Requirement already satisfied: requests in /usr/local/lib/python3.10/dist-packages (from huggingface-hub->lingowiz==1.0.4) (2.32.3)\n",
            "Requirement already satisfied: typing-extensions>=3.7.4.3 in /usr/local/lib/python3.10/dist-packages (from huggingface-hub->lingowiz==1.0.4) (4.12.2)\n",
            "Requirement already satisfied: sympy in /usr/local/lib/python3.10/dist-packages (from torch->lingowiz==1.0.4) (1.13.3)\n",
            "Requirement already satisfied: networkx in /usr/local/lib/python3.10/dist-packages (from torch->lingowiz==1.0.4) (3.3)\n",
            "Requirement already satisfied: jinja2 in /usr/local/lib/python3.10/dist-packages (from torch->lingowiz==1.0.4) (3.1.4)\n",
            "Requirement already satisfied: pandas>=1.0.1 in /usr/local/lib/python3.10/dist-packages (from bert-score->lingowiz==1.0.4) (2.2.2)\n",
            "Requirement already satisfied: matplotlib in /usr/local/lib/python3.10/dist-packages (from bert-score->lingowiz==1.0.4) (3.7.1)\n",
            "Requirement already satisfied: regex!=2019.12.17 in /usr/local/lib/python3.10/dist-packages (from transformers->lingowiz==1.0.4) (2024.9.11)\n",
            "Requirement already satisfied: tokenizers<0.20,>=0.19 in /usr/local/lib/python3.10/dist-packages (from transformers->lingowiz==1.0.4) (0.19.1)\n",
            "Requirement already satisfied: efficiency in /usr/local/lib/python3.10/dist-packages (from bleu->lingowiz==1.0.4) (2.0)\n",
            "Requirement already satisfied: future in /usr/local/lib/python3.10/dist-packages (from camel-tools->lingowiz==1.0.4) (1.0.0)\n",
            "Requirement already satisfied: six in /usr/local/lib/python3.10/dist-packages (from camel-tools->lingowiz==1.0.4) (1.16.0)\n",
            "Requirement already satisfied: docopt in /usr/local/lib/python3.10/dist-packages (from camel-tools->lingowiz==1.0.4) (0.6.2)\n",
            "Requirement already satisfied: cachetools in /usr/local/lib/python3.10/dist-packages (from camel-tools->lingowiz==1.0.4) (5.5.0)\n",
            "Requirement already satisfied: scipy in /usr/local/lib/python3.10/dist-packages (from camel-tools->lingowiz==1.0.4) (1.13.1)\n",
            "Requirement already satisfied: dill in /usr/local/lib/python3.10/dist-packages (from camel-tools->lingowiz==1.0.4) (0.3.8)\n",
            "Requirement already satisfied: editdistance in /usr/local/lib/python3.10/dist-packages (from camel-tools->lingowiz==1.0.4) (0.8.1)\n",
            "Requirement already satisfied: emoji in /usr/local/lib/python3.10/dist-packages (from camel-tools->lingowiz==1.0.4) (2.13.2)\n",
            "Requirement already satisfied: pyrsistent in /usr/local/lib/python3.10/dist-packages (from camel-tools->lingowiz==1.0.4) (0.20.0)\n",
            "Requirement already satisfied: tabulate in /usr/local/lib/python3.10/dist-packages (from camel-tools->lingowiz==1.0.4) (0.9.0)\n",
            "Requirement already satisfied: muddler in /usr/local/lib/python3.10/dist-packages (from camel-tools->lingowiz==1.0.4) (0.1.3)\n",
            "Requirement already satisfied: camel-kenlm>=2024.5.6 in /usr/local/lib/python3.10/dist-packages (from camel-tools->lingowiz==1.0.4) (2024.5.6)\n",
            "Requirement already satisfied: pyarrow>=15.0.0 in /usr/local/lib/python3.10/dist-packages (from datasets->lingowiz==1.0.4) (16.1.0)\n",
            "Requirement already satisfied: xxhash in /usr/local/lib/python3.10/dist-packages (from datasets->lingowiz==1.0.4) (3.5.0)\n",
            "Requirement already satisfied: multiprocess in /usr/local/lib/python3.10/dist-packages (from datasets->lingowiz==1.0.4) (0.70.16)\n",
            "Requirement already satisfied: aiohttp in /usr/local/lib/python3.10/dist-packages (from datasets->lingowiz==1.0.4) (3.10.6)\n",
            "Requirement already satisfied: pybind11>=2.2 in /usr/local/lib/python3.10/dist-packages (from fasttext->lingowiz==1.0.4) (2.13.6)\n",
            "Requirement already satisfied: setuptools>=0.7.0 in /usr/local/lib/python3.10/dist-packages (from fasttext->lingowiz==1.0.4) (71.0.4)\n",
            "Requirement already satisfied: language-data>=1.2 in /usr/local/lib/python3.10/dist-packages (from langcodes->lingowiz==1.0.4) (1.2.0)\n",
            "Requirement already satisfied: portalocker in /usr/local/lib/python3.10/dist-packages (from sacrebleu->lingowiz==1.0.4) (2.10.1)\n",
            "Requirement already satisfied: colorama in /usr/local/lib/python3.10/dist-packages (from sacrebleu->lingowiz==1.0.4) (0.4.6)\n",
            "Requirement already satisfied: joblib>=1.2.0 in /usr/local/lib/python3.10/dist-packages (from scikit-learn->lingowiz==1.0.4) (1.4.2)\n",
            "Requirement already satisfied: threadpoolctl>=3.1.0 in /usr/local/lib/python3.10/dist-packages (from scikit-learn->lingowiz==1.0.4) (3.5.0)\n",
            "Requirement already satisfied: dask>=2.10.0 in /usr/local/lib/python3.10/dist-packages (from dask[dataframe]>=2.10.0->swifter->lingowiz==1.0.4) (2024.8.0)\n",
            "Requirement already satisfied: click>=8.1 in /usr/local/lib/python3.10/dist-packages (from dask>=2.10.0->dask[dataframe]>=2.10.0->swifter->lingowiz==1.0.4) (8.1.7)\n",
            "Requirement already satisfied: cloudpickle>=1.5.0 in /usr/local/lib/python3.10/dist-packages (from dask>=2.10.0->dask[dataframe]>=2.10.0->swifter->lingowiz==1.0.4) (2.2.1)\n",
            "Requirement already satisfied: partd>=1.4.0 in /usr/local/lib/python3.10/dist-packages (from dask>=2.10.0->dask[dataframe]>=2.10.0->swifter->lingowiz==1.0.4) (1.4.2)\n",
            "Requirement already satisfied: toolz>=0.10.0 in /usr/local/lib/python3.10/dist-packages (from dask>=2.10.0->dask[dataframe]>=2.10.0->swifter->lingowiz==1.0.4) (0.12.1)\n",
            "Requirement already satisfied: importlib-metadata>=4.13.0 in /usr/local/lib/python3.10/dist-packages (from dask>=2.10.0->dask[dataframe]>=2.10.0->swifter->lingowiz==1.0.4) (8.5.0)\n",
            "Requirement already satisfied: dask-expr<1.2,>=1.1 in /usr/local/lib/python3.10/dist-packages (from dask[dataframe]>=2.10.0->swifter->lingowiz==1.0.4) (1.1.10)\n",
            "Requirement already satisfied: aiohappyeyeballs>=2.3.0 in /usr/local/lib/python3.10/dist-packages (from aiohttp->datasets->lingowiz==1.0.4) (2.4.0)\n",
            "Requirement already satisfied: aiosignal>=1.1.2 in /usr/local/lib/python3.10/dist-packages (from aiohttp->datasets->lingowiz==1.0.4) (1.3.1)\n",
            "Requirement already satisfied: attrs>=17.3.0 in /usr/local/lib/python3.10/dist-packages (from aiohttp->datasets->lingowiz==1.0.4) (24.2.0)\n",
            "Requirement already satisfied: frozenlist>=1.1.1 in /usr/local/lib/python3.10/dist-packages (from aiohttp->datasets->lingowiz==1.0.4) (1.4.1)\n",
            "Requirement already satisfied: multidict<7.0,>=4.5 in /usr/local/lib/python3.10/dist-packages (from aiohttp->datasets->lingowiz==1.0.4) (6.1.0)\n",
            "Requirement already satisfied: yarl<2.0,>=1.12.0 in /usr/local/lib/python3.10/dist-packages (from aiohttp->datasets->lingowiz==1.0.4) (1.12.1)\n",
            "Requirement already satisfied: async-timeout<5.0,>=4.0 in /usr/local/lib/python3.10/dist-packages (from aiohttp->datasets->lingowiz==1.0.4) (4.0.3)\n",
            "Requirement already satisfied: marisa-trie>=0.7.7 in /usr/local/lib/python3.10/dist-packages (from language-data>=1.2->langcodes->lingowiz==1.0.4) (1.2.0)\n",
            "Requirement already satisfied: python-dateutil>=2.8.2 in /usr/local/lib/python3.10/dist-packages (from pandas>=1.0.1->bert-score->lingowiz==1.0.4) (2.8.2)\n",
            "Requirement already satisfied: pytz>=2020.1 in /usr/local/lib/python3.10/dist-packages (from pandas>=1.0.1->bert-score->lingowiz==1.0.4) (2024.2)\n",
            "Requirement already satisfied: tzdata>=2022.7 in /usr/local/lib/python3.10/dist-packages (from pandas>=1.0.1->bert-score->lingowiz==1.0.4) (2024.2)\n",
            "Requirement already satisfied: charset-normalizer<4,>=2 in /usr/local/lib/python3.10/dist-packages (from requests->huggingface-hub->lingowiz==1.0.4) (3.3.2)\n",
            "Requirement already satisfied: idna<4,>=2.5 in /usr/local/lib/python3.10/dist-packages (from requests->huggingface-hub->lingowiz==1.0.4) (3.10)\n",
            "Requirement already satisfied: urllib3<3,>=1.21.1 in /usr/local/lib/python3.10/dist-packages (from requests->huggingface-hub->lingowiz==1.0.4) (2.2.3)\n",
            "Requirement already satisfied: certifi>=2017.4.17 in /usr/local/lib/python3.10/dist-packages (from requests->huggingface-hub->lingowiz==1.0.4) (2024.8.30)\n",
            "Requirement already satisfied: MarkupSafe>=2.0 in /usr/local/lib/python3.10/dist-packages (from jinja2->torch->lingowiz==1.0.4) (2.1.5)\n",
            "Requirement already satisfied: contourpy>=1.0.1 in /usr/local/lib/python3.10/dist-packages (from matplotlib->bert-score->lingowiz==1.0.4) (1.3.0)\n",
            "Requirement already satisfied: cycler>=0.10 in /usr/local/lib/python3.10/dist-packages (from matplotlib->bert-score->lingowiz==1.0.4) (0.12.1)\n",
            "Requirement already satisfied: fonttools>=4.22.0 in /usr/local/lib/python3.10/dist-packages (from matplotlib->bert-score->lingowiz==1.0.4) (4.54.1)\n",
            "Requirement already satisfied: kiwisolver>=1.0.1 in /usr/local/lib/python3.10/dist-packages (from matplotlib->bert-score->lingowiz==1.0.4) (1.4.7)\n",
            "Requirement already satisfied: pillow>=6.2.0 in /usr/local/lib/python3.10/dist-packages (from matplotlib->bert-score->lingowiz==1.0.4) (10.4.0)\n",
            "Requirement already satisfied: pyparsing>=2.3.1 in /usr/local/lib/python3.10/dist-packages (from matplotlib->bert-score->lingowiz==1.0.4) (3.1.4)\n",
            "Requirement already satisfied: mpmath<1.4,>=1.1.0 in /usr/local/lib/python3.10/dist-packages (from sympy->torch->lingowiz==1.0.4) (1.3.0)\n",
            "Requirement already satisfied: zipp>=3.20 in /usr/local/lib/python3.10/dist-packages (from importlib-metadata>=4.13.0->dask>=2.10.0->dask[dataframe]>=2.10.0->swifter->lingowiz==1.0.4) (3.20.2)\n",
            "Requirement already satisfied: locket in /usr/local/lib/python3.10/dist-packages (from partd>=1.4.0->dask>=2.10.0->dask[dataframe]>=2.10.0->swifter->lingowiz==1.0.4) (1.0.0)\n"
          ]
        }
      ],
      "source": [
        "!pip install --index-url https://test.pypi.org/simple/ --extra-index-url https://pypi.org/simple lingowiz==1.0.4"
      ]
    },
    {
      "cell_type": "code",
      "execution_count": null,
      "metadata": {
        "colab": {
          "base_uri": "https://localhost:8080/"
        },
        "id": "vVYjHTDaq21-",
        "outputId": "e62506da-5fc3-426f-b30e-25f5fa61356d"
      },
      "outputs": [
        {
          "output_type": "stream",
          "name": "stderr",
          "text": [
            "Downloading LanguageTool 6.4: 100%|██████████| 246M/246M [00:04<00:00, 52.6MB/s]\n",
            "INFO:language_tool_python.download_lt:Unzipping /tmp/tmp_e79dnn9.zip to /root/.cache/language_tool_python.\n",
            "INFO:language_tool_python.download_lt:Downloaded https://www.languagetool.org/download/LanguageTool-6.4.zip to /root/.cache/language_tool_python.\n"
          ]
        },
        {
          "output_type": "stream",
          "name": "stdout",
          "text": [
            "Enter your authtoken, which can be copied from https://dashboard.ngrok.com/get-started/your-authtoken\n",
            " * ngrok tunnel \"https://ideal-amoeba-specially.ngrok-free.app\" -> \"http://127.0.0.1:4000/\"\n"
          ]
        },
        {
          "output_type": "stream",
          "name": "stderr",
          "text": [
            "INFO:     Started server process [13229]\n",
            "INFO:     Waiting for application startup.\n",
            "INFO:     Application startup complete.\n",
            "INFO:     Uvicorn running on http://127.0.0.1:4000 (Press CTRL+C to quit)\n"
          ]
        },
        {
          "output_type": "stream",
          "name": "stdout",
          "text": [
            "Les sessions de traitement thérapeutique sont prises en charge par l'assurance, garantissant une réhabilitation complète et progressive.\n",
            "code:  fra\n",
            "les sessions de traitement thérapeutique sont prises en charge par l'assurance, garantissant une réhabilitation complète et progressive.\n"
          ]
        },
        {
          "output_type": "stream",
          "name": "stderr",
          "text": [
            "/usr/local/lib/python3.10/dist-packages/transformers/models/marian/tokenization_marian.py:175: UserWarning: Recommended: pip install sacremoses.\n",
            "  warnings.warn(\"Recommended: pip install sacremoses.\")\n"
          ]
        },
        {
          "output_type": "stream",
          "name": "stdout",
          "text": [
            "les sessions de traitement thérapeutique sont prises en charge par l'assurance, garantissant une réhabilitation complète et progressive.\n",
            "this translation should be in english or arabic: >>ara<< يتم تأمين جلسات العلاج العلاجي التي تأتي من خلال التأمين، مما يضمن التأمين الاجتماعي بالكامل والمقدم.\n",
            "INFO:     194.126.19.138:0 - \"POST /inference HTTP/1.1\" 200 OK\n",
            "Fiecare pacient are dreptul la un tratament gratuit prin asigurarea de sănătate\n",
            "code:  ron\n",
            "fiecare pacient are dreptul la un tratament gratuit prin asigurarea de sanatate\n",
            ">>eng<< fiecare pacient are dreptul la un tratament gratuit prin asigurarea de sanatate\n",
            "this translation should be in english or arabic: Each patient is entitled to free treatment by health insurance\n",
            "should be arab يحق لكل مريض الحصول على العلاج مجانا من خلال التأمين الصحي.\n",
            "INFO:     194.126.19.138:0 - \"POST /inference HTTP/1.1\" 200 OK\n",
            "Fiecare pacient are dreptul la un tratament gratuit prin asigurarea de sănătate\n",
            "code:  ron\n",
            "fiecare pacient are dreptul la un tratament gratuit prin asigurarea de sanatate\n",
            ">>eng<< fiecare pacient are dreptul la un tratament gratuit prin asigurarea de sanatate\n",
            "this translation should be in english or arabic: Each patient is entitled to free treatment by health insurance\n",
            "should be arab يحق لكل مريض الحصول على العلاج مجانا من خلال التأمين الصحي.\n",
            "INFO:     194.126.19.138:0 - \"POST /inference HTTP/1.1\" 200 OK\n"
          ]
        }
      ],
      "source": [
        "import os\n",
        "import threading\n",
        "from fastapi import FastAPI, Request\n",
        "from pyngrok import ngrok, conf\n",
        "from google.colab import userdata\n",
        "from pydantic import BaseModel\n",
        "import uvicorn\n",
        "import nest_asyncio\n",
        "import language_tool_python\n",
        "tool = language_tool_python.LanguageTool('ar')\n",
        "\n",
        "nest_asyncio.apply()\n",
        "\n",
        "# Define a request body model for FastAPI\n",
        "class TranslationRequest(BaseModel):\n",
        "    input: str\n",
        "\n",
        "\n",
        "print(\"Enter your authtoken, which can be copied from https://dashboard.ngrok.com/get-started/your-authtoken\")\n",
        "conf.get_default().auth_token = userdata.get('ngrok_token')\n",
        "\n",
        "# Initialize FastAPI app\n",
        "app = FastAPI()\n",
        "\n",
        "# Open a ngrok tunnel to the HTTP server\n",
        "domain = \"ideal-amoeba-specially.ngrok-free.app\"\n",
        "public_url = ngrok.connect(4000, domain=\"ideal-amoeba-specially.ngrok-free.app\").public_url\n",
        "print(f\" * ngrok tunnel \\\"{public_url}\\\" -> \\\"http://127.0.0.1:{4000}/\\\"\")\n",
        "\n",
        "\n",
        "@app.post(\"/inference\")\n",
        "async def text_to_arabic(request_body: TranslationRequest):\n",
        "    from lingowiz import inference\n",
        "    input_data = request_body.input\n",
        "    print(input_data)\n",
        "    text, language = inference.inference(input_data)\n",
        "    # text = text[8:]\n",
        "    matches = tool.check(text)\n",
        "    number_errors = len(matches)\n",
        "    return {\"translation\": text, \"language\": language,\"errors_count\":number_errors}\n",
        "\n",
        "# Run the server using Uvicorn\n",
        "if __name__ == \"__main__\":\n",
        "    uvicorn.run(app, host=\"127.0.0.1\", port=4000)\n"
      ]
    },
    {
      "cell_type": "code",
      "execution_count": 3,
      "metadata": {
        "id": "lXF_09qrwK0x"
      },
      "outputs": [],
      "source": []
    }
  ],
  "metadata": {
    "colab": {
      "provenance": []
    },
    "kernelspec": {
      "display_name": "Python 3",
      "name": "python3"
    },
    "language_info": {
      "name": "python"
    }
  },
  "nbformat": 4,
  "nbformat_minor": 0
}